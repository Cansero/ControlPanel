{
 "cells": [
  {
   "cell_type": "code",
   "execution_count": 1,
   "id": "initial_id",
   "metadata": {
    "collapsed": true,
    "ExecuteTime": {
     "end_time": "2023-08-12T21:42:38.399294900Z",
     "start_time": "2023-08-12T21:42:38.119741500Z"
    }
   },
   "outputs": [],
   "source": [
    "import pandas as pd\n",
    "import gspread\n",
    "\n",
    "gc = gspread.oauth(\n",
    "    credentials_filename='Credentials/credentials.json',\n",
    "    authorized_user_filename='Credentials/authorized_user.json'\n",
    ")\n",
    "\n",
    "df = pd.DataFrame(gc.open('BUFFALO WAREHOUSE').worksheet('2023-08').get_all_records())"
   ]
  },
  {
   "cell_type": "code",
   "execution_count": 73,
   "outputs": [],
   "source": [
    "last_value = df.loc[len(df) - 1, 'DATE']"
   ],
   "metadata": {
    "collapsed": false,
    "ExecuteTime": {
     "end_time": "2023-08-12T23:15:15.963252Z",
     "start_time": "2023-08-12T23:15:11.504723100Z"
    }
   },
   "id": "d6893b23f6f321f5"
  },
  {
   "cell_type": "code",
   "execution_count": 74,
   "outputs": [],
   "source": [
    "df2 = df[df['DATE'] == last_value]"
   ],
   "metadata": {
    "collapsed": false,
    "ExecuteTime": {
     "end_time": "2023-08-12T23:15:18.343867500Z",
     "start_time": "2023-08-12T23:15:18.336288700Z"
    }
   },
   "id": "d905bf824ce02762"
  },
  {
   "cell_type": "code",
   "execution_count": 75,
   "outputs": [],
   "source": [
    "stop_point = None\n",
    "count = 0\n",
    "for i, _, n in df2.loc[:, :'SCANNED INBOUND TRACKING'].itertuples(index=True, name=None):\n",
    "    if not n == '':\n",
    "        count = 0\n",
    "    else:\n",
    "        count += 1\n",
    "        if count >= 10:\n",
    "            stop_point = i\n",
    "            break\n",
    "\n",
    "df = df.loc[:stop_point]"
   ],
   "metadata": {
    "collapsed": false,
    "ExecuteTime": {
     "end_time": "2023-08-12T23:15:19.275172200Z",
     "start_time": "2023-08-12T23:15:19.267603900Z"
    }
   },
   "id": "d1cfde4a986ff4fd"
  },
  {
   "cell_type": "code",
   "execution_count": 76,
   "outputs": [],
   "source": [
    "df_test = df[df['NOTES'] == 'RCVD']"
   ],
   "metadata": {
    "collapsed": false,
    "ExecuteTime": {
     "end_time": "2023-08-12T23:15:20.834848Z",
     "start_time": "2023-08-12T23:15:20.826094Z"
    }
   },
   "id": "c830a2b760953c39"
  },
  {
   "cell_type": "code",
   "execution_count": 77,
   "outputs": [],
   "source": [
    "df_test"
   ],
   "metadata": {
    "collapsed": false,
    "ExecuteTime": {
     "end_time": "2023-08-12T23:15:24.997305Z",
     "start_time": "2023-08-12T23:15:24.990782300Z"
    }
   },
   "id": "3e8a3a04fecb56fb"
  },
  {
   "cell_type": "code",
   "execution_count": 78,
   "outputs": [
    {
     "data": {
      "text/plain": "            DATE        SCANNED INBOUND TRACKING                INBOUND USED  \\\n1409  2023-08-12  420142139305520111410677871613      9305520111410677871613   \n1410  2023-08-12  420142139400116901516812796484      9400116901516812796484   \n1411  2023-08-12      92419999955156513031311801  92419999955156513031311801   \n1412  2023-08-12  420142139305520111410679673000      9305520111410679673000   \n1413  2023-08-12  420142139341920111410678245697      9341920111410678245697   \n...          ...                             ...                         ...   \n1475  2023-08-12                 TBA308127657972             TBA308127657972   \n1476  2023-08-12                 TBA308130699940             TBA308130699940   \n1477  2023-08-12                 TBA308132140068             TBA308132140068   \n1478  2023-08-12                 TBA308127679609             TBA308127679609   \n1479  2023-08-12                 TBA308136521510             TBA308136521510   \n\n           BOX ID STATUS NOTES REFERENCE (ONLY USE IF THERE IS NO TRACKING)  \n1409  NSHIP358613                                                            \n1410  NSHIP358369                                                            \n1411  NSHIP358285                                                            \n1412  NSHIP358722                                                            \n1413  NSHIP358621                                                            \n...           ...    ...   ...                                          ...  \n1475  NSHIP358751                                                            \n1476  NSHIP358761                                                            \n1477  NSHIP358758                                                            \n1478  NSHIP358756                                                            \n1479  NSHIP358785                                                            \n\n[71 rows x 7 columns]",
      "text/html": "<div>\n<style scoped>\n    .dataframe tbody tr th:only-of-type {\n        vertical-align: middle;\n    }\n\n    .dataframe tbody tr th {\n        vertical-align: top;\n    }\n\n    .dataframe thead th {\n        text-align: right;\n    }\n</style>\n<table border=\"1\" class=\"dataframe\">\n  <thead>\n    <tr style=\"text-align: right;\">\n      <th></th>\n      <th>DATE</th>\n      <th>SCANNED INBOUND TRACKING</th>\n      <th>INBOUND USED</th>\n      <th>BOX ID</th>\n      <th>STATUS</th>\n      <th>NOTES</th>\n      <th>REFERENCE (ONLY USE IF THERE IS NO TRACKING)</th>\n    </tr>\n  </thead>\n  <tbody>\n    <tr>\n      <th>1409</th>\n      <td>2023-08-12</td>\n      <td>420142139305520111410677871613</td>\n      <td>9305520111410677871613</td>\n      <td>NSHIP358613</td>\n      <td></td>\n      <td></td>\n      <td></td>\n    </tr>\n    <tr>\n      <th>1410</th>\n      <td>2023-08-12</td>\n      <td>420142139400116901516812796484</td>\n      <td>9400116901516812796484</td>\n      <td>NSHIP358369</td>\n      <td></td>\n      <td></td>\n      <td></td>\n    </tr>\n    <tr>\n      <th>1411</th>\n      <td>2023-08-12</td>\n      <td>92419999955156513031311801</td>\n      <td>92419999955156513031311801</td>\n      <td>NSHIP358285</td>\n      <td></td>\n      <td></td>\n      <td></td>\n    </tr>\n    <tr>\n      <th>1412</th>\n      <td>2023-08-12</td>\n      <td>420142139305520111410679673000</td>\n      <td>9305520111410679673000</td>\n      <td>NSHIP358722</td>\n      <td></td>\n      <td></td>\n      <td></td>\n    </tr>\n    <tr>\n      <th>1413</th>\n      <td>2023-08-12</td>\n      <td>420142139341920111410678245697</td>\n      <td>9341920111410678245697</td>\n      <td>NSHIP358621</td>\n      <td></td>\n      <td></td>\n      <td></td>\n    </tr>\n    <tr>\n      <th>...</th>\n      <td>...</td>\n      <td>...</td>\n      <td>...</td>\n      <td>...</td>\n      <td>...</td>\n      <td>...</td>\n      <td>...</td>\n    </tr>\n    <tr>\n      <th>1475</th>\n      <td>2023-08-12</td>\n      <td>TBA308127657972</td>\n      <td>TBA308127657972</td>\n      <td>NSHIP358751</td>\n      <td></td>\n      <td></td>\n      <td></td>\n    </tr>\n    <tr>\n      <th>1476</th>\n      <td>2023-08-12</td>\n      <td>TBA308130699940</td>\n      <td>TBA308130699940</td>\n      <td>NSHIP358761</td>\n      <td></td>\n      <td></td>\n      <td></td>\n    </tr>\n    <tr>\n      <th>1477</th>\n      <td>2023-08-12</td>\n      <td>TBA308132140068</td>\n      <td>TBA308132140068</td>\n      <td>NSHIP358758</td>\n      <td></td>\n      <td></td>\n      <td></td>\n    </tr>\n    <tr>\n      <th>1478</th>\n      <td>2023-08-12</td>\n      <td>TBA308127679609</td>\n      <td>TBA308127679609</td>\n      <td>NSHIP358756</td>\n      <td></td>\n      <td></td>\n      <td></td>\n    </tr>\n    <tr>\n      <th>1479</th>\n      <td>2023-08-12</td>\n      <td>TBA308136521510</td>\n      <td>TBA308136521510</td>\n      <td>NSHIP358785</td>\n      <td></td>\n      <td></td>\n      <td></td>\n    </tr>\n  </tbody>\n</table>\n<p>71 rows × 7 columns</p>\n</div>"
     },
     "execution_count": 78,
     "metadata": {},
     "output_type": "execute_result"
    }
   ],
   "source": [
    "df_test = df_test.tail(1).index"
   ],
   "metadata": {
    "collapsed": false,
    "ExecuteTime": {
     "end_time": "2023-08-12T23:15:28.273853Z",
     "start_time": "2023-08-12T23:15:28.262510800Z"
    }
   },
   "id": "66cd5af5fccb9d97"
  },
  {
   "cell_type": "code",
   "execution_count": 64,
   "outputs": [],
   "source": [
    "df_use = df.loc[df_test[0] + 1:]"
   ],
   "metadata": {
    "collapsed": false,
    "ExecuteTime": {
     "end_time": "2023-08-12T22:09:57.961831Z",
     "start_time": "2023-08-12T22:09:57.953416400Z"
    }
   },
   "id": "caf5ec9530f668e6"
  },
  {
   "cell_type": "code",
   "execution_count": 65,
   "outputs": [
    {
     "data": {
      "text/plain": "            DATE SCANNED INBOUND TRACKING     INBOUND USED       BOX ID  \\\n1461  2023-08-12          TBA308138909968  TBA308138909968  NSHIP358788   \n1469  2023-08-12          TBA308103872314  TBA308103872314  NSHIP358531   \n\n     STATUS NOTES REFERENCE (ONLY USE IF THERE IS NO TRACKING)  \n1461         RCVD                                               \n1469         RCVD                                               ",
      "text/html": "<div>\n<style scoped>\n    .dataframe tbody tr th:only-of-type {\n        vertical-align: middle;\n    }\n\n    .dataframe tbody tr th {\n        vertical-align: top;\n    }\n\n    .dataframe thead th {\n        text-align: right;\n    }\n</style>\n<table border=\"1\" class=\"dataframe\">\n  <thead>\n    <tr style=\"text-align: right;\">\n      <th></th>\n      <th>DATE</th>\n      <th>SCANNED INBOUND TRACKING</th>\n      <th>INBOUND USED</th>\n      <th>BOX ID</th>\n      <th>STATUS</th>\n      <th>NOTES</th>\n      <th>REFERENCE (ONLY USE IF THERE IS NO TRACKING)</th>\n    </tr>\n  </thead>\n  <tbody>\n    <tr>\n      <th>1461</th>\n      <td>2023-08-12</td>\n      <td>TBA308138909968</td>\n      <td>TBA308138909968</td>\n      <td>NSHIP358788</td>\n      <td></td>\n      <td>RCVD</td>\n      <td></td>\n    </tr>\n    <tr>\n      <th>1469</th>\n      <td>2023-08-12</td>\n      <td>TBA308103872314</td>\n      <td>TBA308103872314</td>\n      <td>NSHIP358531</td>\n      <td></td>\n      <td>RCVD</td>\n      <td></td>\n    </tr>\n  </tbody>\n</table>\n</div>"
     },
     "execution_count": 65,
     "metadata": {},
     "output_type": "execute_result"
    }
   ],
   "source": [
    "df_use"
   ],
   "metadata": {
    "collapsed": false,
    "ExecuteTime": {
     "end_time": "2023-08-12T22:09:58.697805500Z",
     "start_time": "2023-08-12T22:09:58.690075Z"
    }
   },
   "id": "1595ec8bfcb2a139"
  },
  {
   "cell_type": "code",
   "execution_count": 66,
   "outputs": [],
   "source": [
    "stop_point2 = 0\n",
    "count = 0\n",
    "last_value_not_empty = 0\n",
    "for index, _, inbound in df_use.loc[:, :'SCANNED INBOUND TRACKING'].itertuples(index=True, name=None):\n",
    "    if not inbound == '':\n",
    "        count = 0\n",
    "        last_value_not_empty = index\n",
    "    else:\n",
    "        count += 1\n",
    "        if count >= 5:\n",
    "            break\n",
    "        "
   ],
   "metadata": {
    "collapsed": false,
    "ExecuteTime": {
     "end_time": "2023-08-12T22:09:59.360534600Z",
     "start_time": "2023-08-12T22:09:59.353583200Z"
    }
   },
   "id": "430713981e20c095"
  },
  {
   "cell_type": "code",
   "execution_count": 67,
   "outputs": [
    {
     "data": {
      "text/plain": "1469"
     },
     "execution_count": 67,
     "metadata": {},
     "output_type": "execute_result"
    }
   ],
   "source": [
    "df_nuevo = df_use.loc[:last_value_not_empty]"
   ],
   "metadata": {
    "collapsed": false,
    "ExecuteTime": {
     "end_time": "2023-08-12T22:10:00.212674Z",
     "start_time": "2023-08-12T22:10:00.204927400Z"
    }
   },
   "id": "9dbc36b37ed2d35c"
  },
  {
   "cell_type": "code",
   "execution_count": 68,
   "outputs": [],
   "source": [
    "df_nuevo = df_nuevo.loc[:, 'INBOUND USED':'BOX ID']"
   ],
   "metadata": {
    "collapsed": false,
    "ExecuteTime": {
     "end_time": "2023-08-12T22:10:05.921510500Z",
     "start_time": "2023-08-12T22:10:05.912647Z"
    }
   },
   "id": "18ca2429e36ce03b"
  },
  {
   "cell_type": "code",
   "execution_count": 69,
   "outputs": [
    {
     "data": {
      "text/plain": "         INBOUND USED       BOX ID\n1470  TBA308117825193  NSHIP358739\n1471  TBA308135038634  NSHIP358774\n1472  TBA308119291991  NSHIP358660\n1473  TBA308103788003  NSHIP358552\n1474  TBA308135256464  NSHIP358764\n1475  TBA308127657972  NSHIP358751\n1476  TBA308130699940  NSHIP358761\n1477  TBA308132140068  NSHIP358758\n1478  TBA308127679609  NSHIP358756\n1479  TBA308136521510  NSHIP358785",
      "text/html": "<div>\n<style scoped>\n    .dataframe tbody tr th:only-of-type {\n        vertical-align: middle;\n    }\n\n    .dataframe tbody tr th {\n        vertical-align: top;\n    }\n\n    .dataframe thead th {\n        text-align: right;\n    }\n</style>\n<table border=\"1\" class=\"dataframe\">\n  <thead>\n    <tr style=\"text-align: right;\">\n      <th></th>\n      <th>INBOUND USED</th>\n      <th>BOX ID</th>\n    </tr>\n  </thead>\n  <tbody>\n    <tr>\n      <th>1470</th>\n      <td>TBA308117825193</td>\n      <td>NSHIP358739</td>\n    </tr>\n    <tr>\n      <th>1471</th>\n      <td>TBA308135038634</td>\n      <td>NSHIP358774</td>\n    </tr>\n    <tr>\n      <th>1472</th>\n      <td>TBA308119291991</td>\n      <td>NSHIP358660</td>\n    </tr>\n    <tr>\n      <th>1473</th>\n      <td>TBA308103788003</td>\n      <td>NSHIP358552</td>\n    </tr>\n    <tr>\n      <th>1474</th>\n      <td>TBA308135256464</td>\n      <td>NSHIP358764</td>\n    </tr>\n    <tr>\n      <th>1475</th>\n      <td>TBA308127657972</td>\n      <td>NSHIP358751</td>\n    </tr>\n    <tr>\n      <th>1476</th>\n      <td>TBA308130699940</td>\n      <td>NSHIP358761</td>\n    </tr>\n    <tr>\n      <th>1477</th>\n      <td>TBA308132140068</td>\n      <td>NSHIP358758</td>\n    </tr>\n    <tr>\n      <th>1478</th>\n      <td>TBA308127679609</td>\n      <td>NSHIP358756</td>\n    </tr>\n    <tr>\n      <th>1479</th>\n      <td>TBA308136521510</td>\n      <td>NSHIP358785</td>\n    </tr>\n  </tbody>\n</table>\n</div>"
     },
     "execution_count": 69,
     "metadata": {},
     "output_type": "execute_result"
    }
   ],
   "source": [
    "df_nuevo"
   ],
   "metadata": {
    "collapsed": false,
    "ExecuteTime": {
     "end_time": "2023-08-12T22:10:06.449264700Z",
     "start_time": "2023-08-12T22:10:06.441327600Z"
    }
   },
   "id": "84db0dc7533c6086"
  },
  {
   "cell_type": "code",
   "execution_count": 70,
   "outputs": [],
   "source": [
    "lista1, lista2 = df_nuevo['INBOUND USED'].tolist(), df_nuevo['BOX ID'].tolist()"
   ],
   "metadata": {
    "collapsed": false,
    "ExecuteTime": {
     "end_time": "2023-08-12T22:11:36.592307200Z",
     "start_time": "2023-08-12T22:11:36.586213100Z"
    }
   },
   "id": "76c45a083e205504"
  },
  {
   "cell_type": "code",
   "execution_count": 71,
   "outputs": [
    {
     "data": {
      "text/plain": "['TBA308117825193',\n 'TBA308135038634',\n 'TBA308119291991',\n 'TBA308103788003',\n 'TBA308135256464',\n 'TBA308127657972',\n 'TBA308130699940',\n 'TBA308132140068',\n 'TBA308127679609',\n 'TBA308136521510']"
     },
     "execution_count": 71,
     "metadata": {},
     "output_type": "execute_result"
    }
   ],
   "source": [
    "lista1"
   ],
   "metadata": {
    "collapsed": false,
    "ExecuteTime": {
     "end_time": "2023-08-12T22:11:40.963071400Z",
     "start_time": "2023-08-12T22:11:40.957416Z"
    }
   },
   "id": "5d17cf9381bb27b1"
  },
  {
   "cell_type": "code",
   "execution_count": 72,
   "outputs": [
    {
     "data": {
      "text/plain": "['NSHIP358739',\n 'NSHIP358774',\n 'NSHIP358660',\n 'NSHIP358552',\n 'NSHIP358764',\n 'NSHIP358751',\n 'NSHIP358761',\n 'NSHIP358758',\n 'NSHIP358756',\n 'NSHIP358785']"
     },
     "execution_count": 72,
     "metadata": {},
     "output_type": "execute_result"
    }
   ],
   "source": [
    "lista2"
   ],
   "metadata": {
    "collapsed": false,
    "ExecuteTime": {
     "end_time": "2023-08-12T22:11:44.057745400Z",
     "start_time": "2023-08-12T22:11:44.034128900Z"
    }
   },
   "id": "1a8b9f3f6dfbd8d2"
  },
  {
   "cell_type": "code",
   "execution_count": null,
   "outputs": [],
   "source": [],
   "metadata": {
    "collapsed": false
   },
   "id": "afc6f7d947e0e54"
  }
 ],
 "metadata": {
  "kernelspec": {
   "display_name": "Python 3",
   "language": "python",
   "name": "python3"
  },
  "language_info": {
   "codemirror_mode": {
    "name": "ipython",
    "version": 2
   },
   "file_extension": ".py",
   "mimetype": "text/x-python",
   "name": "python",
   "nbconvert_exporter": "python",
   "pygments_lexer": "ipython2",
   "version": "2.7.6"
  }
 },
 "nbformat": 4,
 "nbformat_minor": 5
}
