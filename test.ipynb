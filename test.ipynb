{
 "cells": [
  {
   "cell_type": "code",
   "execution_count": 38,
   "id": "initial_id",
   "metadata": {
    "collapsed": true,
    "ExecuteTime": {
     "end_time": "2023-08-16T19:23:21.137873900Z",
     "start_time": "2023-08-16T19:23:17.279757Z"
    }
   },
   "outputs": [],
   "source": [
    "import pandas as pd\n",
    "import gspread\n",
    "\n",
    "gc = gspread.oauth(\n",
    "    credentials_filename='Credentials/credentials.json',\n",
    "    authorized_user_filename='Credentials/authorized_user.json'\n",
    ")\n",
    "\n",
    "reset_df = pd.DataFrame(gc.open('BUFFALO WAREHOUSE').worksheet('2023-08').get_all_records())"
   ]
  },
  {
   "cell_type": "code",
   "execution_count": 39,
   "outputs": [],
   "source": [
    "df = reset_df"
   ],
   "metadata": {
    "collapsed": false,
    "ExecuteTime": {
     "end_time": "2023-08-16T19:23:21.982692100Z",
     "start_time": "2023-08-16T19:23:21.955461400Z"
    }
   },
   "id": "f91f5fb43fc7ba89"
  },
  {
   "cell_type": "code",
   "execution_count": 40,
   "outputs": [],
   "source": [
    "df['INBOUND USED'] = df['INBOUND USED'].astype(str)"
   ],
   "metadata": {
    "collapsed": false,
    "ExecuteTime": {
     "end_time": "2023-08-16T19:23:22.817760900Z",
     "start_time": "2023-08-16T19:23:22.789744900Z"
    }
   },
   "id": "ea1a848c39a05434"
  },
  {
   "cell_type": "code",
   "execution_count": 51,
   "outputs": [],
   "source": [
    "index = df[df['NOTES'] == 'RCVD']"
   ],
   "metadata": {
    "collapsed": false,
    "ExecuteTime": {
     "end_time": "2023-08-16T19:26:19.814627300Z",
     "start_time": "2023-08-16T19:26:19.777393400Z"
    }
   },
   "id": "8a602c2d2153546b"
  },
  {
   "cell_type": "code",
   "execution_count": 54,
   "outputs": [],
   "source": [
    "index = index.index"
   ],
   "metadata": {
    "collapsed": false,
    "ExecuteTime": {
     "end_time": "2023-08-16T19:26:36.764529900Z",
     "start_time": "2023-08-16T19:26:36.731451600Z"
    }
   },
   "id": "666dc14811d2f072"
  },
  {
   "cell_type": "code",
   "execution_count": 57,
   "outputs": [
    {
     "data": {
      "text/plain": "1959"
     },
     "execution_count": 57,
     "metadata": {},
     "output_type": "execute_result"
    }
   ],
   "source": [
    "index[-1]"
   ],
   "metadata": {
    "collapsed": false,
    "ExecuteTime": {
     "end_time": "2023-08-16T19:26:56.359192400Z",
     "start_time": "2023-08-16T19:26:56.327936400Z"
    }
   },
   "id": "59dae7e034bd8edf"
  },
  {
   "cell_type": "code",
   "execution_count": null,
   "outputs": [],
   "source": [],
   "metadata": {
    "collapsed": false
   },
   "id": "f979070037024297"
  }
 ],
 "metadata": {
  "kernelspec": {
   "display_name": "Python 3",
   "language": "python",
   "name": "python3"
  },
  "language_info": {
   "codemirror_mode": {
    "name": "ipython",
    "version": 2
   },
   "file_extension": ".py",
   "mimetype": "text/x-python",
   "name": "python",
   "nbconvert_exporter": "python",
   "pygments_lexer": "ipython2",
   "version": "2.7.6"
  }
 },
 "nbformat": 4,
 "nbformat_minor": 5
}
