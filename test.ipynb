{
 "cells": [
  {
   "cell_type": "code",
   "execution_count": 1,
   "id": "initial_id",
   "metadata": {
    "collapsed": true,
    "ExecuteTime": {
     "end_time": "2023-08-15T16:43:08.714935200Z",
     "start_time": "2023-08-15T16:43:04.119999600Z"
    }
   },
   "outputs": [],
   "source": [
    "import pandas as pd\n",
    "import gspread\n",
    "\n",
    "gc = gspread.oauth(\n",
    "    credentials_filename='Credentials/credentials.json',\n",
    "    authorized_user_filename='Credentials/authorized_user.json'\n",
    ")\n",
    "\n",
    "df = pd.DataFrame(gc.open('BUFFALO WAREHOUSE').worksheet('2023-08').get_all_records())"
   ]
  },
  {
   "cell_type": "code",
   "execution_count": 7,
   "outputs": [],
   "source": [
    "value = df.loc[1731, 'INBOUND USED']"
   ],
   "metadata": {
    "collapsed": false,
    "ExecuteTime": {
     "end_time": "2023-08-15T16:45:03.071706500Z",
     "start_time": "2023-08-15T16:45:03.055433300Z"
    }
   },
   "id": "afc6f7d947e0e54"
  },
  {
   "cell_type": "code",
   "execution_count": 9,
   "outputs": [
    {
     "data": {
      "text/plain": "61290988122825091387"
     },
     "execution_count": 9,
     "metadata": {},
     "output_type": "execute_result"
    }
   ],
   "source": [
    "value"
   ],
   "metadata": {
    "collapsed": false,
    "ExecuteTime": {
     "end_time": "2023-08-15T16:45:08.967849900Z",
     "start_time": "2023-08-15T16:45:08.932074900Z"
    }
   },
   "id": "466ece002dc04a34"
  },
  {
   "cell_type": "code",
   "execution_count": 10,
   "outputs": [
    {
     "data": {
      "text/plain": "int"
     },
     "execution_count": 10,
     "metadata": {},
     "output_type": "execute_result"
    }
   ],
   "source": [
    "type(value)"
   ],
   "metadata": {
    "collapsed": false,
    "ExecuteTime": {
     "end_time": "2023-08-15T16:45:22.907053600Z",
     "start_time": "2023-08-15T16:45:22.853069400Z"
    }
   },
   "id": "578216a7d1d4d7a9"
  },
  {
   "cell_type": "code",
   "execution_count": null,
   "outputs": [],
   "source": [],
   "metadata": {
    "collapsed": false
   },
   "id": "f91f5fb43fc7ba89"
  }
 ],
 "metadata": {
  "kernelspec": {
   "display_name": "Python 3",
   "language": "python",
   "name": "python3"
  },
  "language_info": {
   "codemirror_mode": {
    "name": "ipython",
    "version": 2
   },
   "file_extension": ".py",
   "mimetype": "text/x-python",
   "name": "python",
   "nbconvert_exporter": "python",
   "pygments_lexer": "ipython2",
   "version": "2.7.6"
  }
 },
 "nbformat": 4,
 "nbformat_minor": 5
}
